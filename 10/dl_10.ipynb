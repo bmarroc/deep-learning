{
 "cells": [
  {
   "cell_type": "markdown",
   "metadata": {},
   "source": [
    "# Building your Convolutional Neural Network: Step by Step"
   ]
  },
  {
   "cell_type": "code",
   "execution_count": 1,
   "metadata": {},
   "outputs": [],
   "source": [
    "import numpy as np\n",
    "import h5py\n",
    "import matplotlib.pyplot as plt\n",
    "import tensorflow as tf\n",
    "from PIL import Image"
   ]
  },
  {
   "cell_type": "code",
   "execution_count": 2,
   "metadata": {},
   "outputs": [],
   "source": [
    "train_dataset = h5py.File('train_signs.h5', \"r\")\n",
    "x_train = np.array(train_dataset[\"train_set_x\"][:]) \n",
    "y_train = np.array(train_dataset[\"train_set_y\"][:])\n",
    "\n",
    "test_dataset = h5py.File('test_signs.h5', \"r\")\n",
    "x_test = np.array(test_dataset[\"test_set_x\"][:]) \n",
    "y_test = np.array(test_dataset[\"test_set_y\"][:])"
   ]
  },
  {
   "cell_type": "code",
   "execution_count": 3,
   "metadata": {},
   "outputs": [],
   "source": [
    "X_train = x_train\n",
    "Y_train = np.reshape(np.eye(6)[y_train],(-1,6))\n",
    "\n",
    "X_test = x_test\n",
    "Y_test = np.reshape(np.eye(6)[y_test],(-1,6))"
   ]
  },
  {
   "cell_type": "code",
   "execution_count": 4,
   "metadata": {},
   "outputs": [
    {
     "name": "stdout",
     "output_type": "stream",
     "text": [
      "It's a 2\n"
     ]
    },
    {
     "data": {
      "image/png": "[encoded data removed]",
      "text/plain": [
       "<Figure size 432x288 with 1 Axes>"
      ]
     },
     "metadata": {
      "needs_background": "light"
     },
     "output_type": "display_data"
    }
   ],
   "source": [
    "index = 6\n",
    "plt.imshow(X_train[index,:,:,:])\n",
    "print(\"It's a {}\".format(y_train[index]))"
   ]
  },
  {
   "cell_type": "code",
   "execution_count": 5,
   "metadata": {},
   "outputs": [],
   "source": [
    "class Lambda():\n",
    "    \n",
    "    def __init__(self):\n",
    "        self.weights = []\n",
    "\n",
    "    def __call__(self, inputs):\n",
    "        return inputs/255.\n",
    "    \n",
    "class Conv2D():\n",
    "    \n",
    "    def __init__(self, filters, kernel_size, strides, padding):\n",
    "        self.filters = filters\n",
    "        self.kernel_size = kernel_size\n",
    "        self.strides = strides\n",
    "        self.padding = padding\n",
    "        self.weights = []\n",
    "        self.built = False\n",
    "        \n",
    "    def add_weight(self, shape):\n",
    "        var_init = tf.random.normal(shape=shape, mean=0.0, stddev=0.05, dtype=\"float32\")\n",
    "        return tf.Variable(initial_value=var_init, trainable=True)\n",
    "            \n",
    "    def build(self, input_dims):\n",
    "        self.h = input_dims[0]\n",
    "        self.w = input_dims[1]\n",
    "        self.c = input_dims[2]\n",
    "        self.f_h = self.kernel_size[0]\n",
    "        self.f_w = self.kernel_size[1]\n",
    "        self.s_h = self.strides[0]\n",
    "        self.s_w = self.strides[1]\n",
    "        if self.padding=='valid':\n",
    "            p_h_1 = 0\n",
    "            p_h_2 = 0\n",
    "            p_w_1 = 0\n",
    "            p_w_2 = 0\n",
    "        else:\n",
    "            if self.padding=='same':\n",
    "                p_h_1 = ((self.h-1)*self.s_h-self.h+self.f_h)//2\n",
    "                p_h_2 = ((self.h-1)*self.s_h-self.h+self.f_h)//2+((self.h-1)*self.s_h-self.h+self.f_h)%2\n",
    "                p_w_1 = ((self.w-1)*self.s_w-self.w+self.f_w)//2\n",
    "                p_w_2 = ((self.w-1)*self.s_w-self.w+self.f_w)//2+((self.w-1)*self.s_w-self.w+self.f_w)%2\n",
    "            else:\n",
    "                p_h_1 = self.padding[0]\n",
    "                p_h_2 = self.padding[1]\n",
    "                p_w_1 = self.padding[2]\n",
    "                p_w_2 = self.padding[3] \n",
    "        self.paddings = [[0,0],[p_h_1,p_h_2],[p_w_1,p_w_2],[0,0]]\n",
    "        self.q_w = (self.w+p_w_1+p_w_2-self.f_w)//self.s_w\n",
    "        self.q_h = (self.h+p_h_1+p_h_2-self.f_h)//self.s_h\n",
    "        self.k = self.add_weight(shape=(self.f_h,self.f_w,self.c,self.filters))\n",
    "        self.weights.append(self.k)\n",
    "        self.b = self.add_weight(shape=(1,self.filters))\n",
    "        self.weights.append(self.b)\n",
    "        self.built = True\n",
    "\n",
    "    def __call__(self, inputs):\n",
    "        if not self.built:\n",
    "            self.build(input_dims=inputs.shape[1:])\n",
    "        v = tf.pad(inputs, paddings=self.paddings)\n",
    "        outputs = []\n",
    "        for a in range(self.q_h+1):\n",
    "            outputs_ = []\n",
    "            for b in range(self.q_w+1):               \n",
    "                z = tf.einsum('ijkc, dijk ->dc', self.k, v[:,self.s_h*a:self.s_h*a+self.f_h,self.s_w*b:self.s_w*b+self.f_w,:]) + self.b    \n",
    "                outputs_.append(tf.math.maximum(0., z))\n",
    "            outputs.append(outputs_)\n",
    "        return tf.transpose(tf.convert_to_tensor(outputs), perm=[2,0,1,3])\n",
    "        \n",
    "class MaxPool2D():\n",
    "    \n",
    "    def __init__(self, pool_size, strides, padding):\n",
    "        self.pool_size = pool_size\n",
    "        self.strides = strides\n",
    "        self.padding = padding\n",
    "        self.weights = []\n",
    "        self.built = False\n",
    "                    \n",
    "    def build(self, input_dims):\n",
    "        self.h = input_dims[0]\n",
    "        self.w = input_dims[1]\n",
    "        self.c = input_dims[2]\n",
    "        self.f_h = self.pool_size[0]\n",
    "        self.f_w = self.pool_size[1]\n",
    "        self.s_h = self.strides[0]\n",
    "        self.s_w = self.strides[1]\n",
    "        if self.padding=='valid':\n",
    "            p_h_1 = 0\n",
    "            p_h_2 = 0\n",
    "            p_w_1 = 0\n",
    "            p_w_2 = 0\n",
    "        else:\n",
    "            if self.padding=='same':\n",
    "                p_h_1 = ((self.h-1)*self.s_h-self.h+self.f_h)//2\n",
    "                p_h_2 = ((self.h-1)*self.s_h-self.h+self.f_h)//2+((self.h-1)*self.s_h-self.h+self.f_h)%2\n",
    "                p_w_1 = ((self.w-1)*self.s_w-self.w+self.f_w)//2\n",
    "                p_w_2 = ((self.w-1)*self.s_w-self.w+self.f_w)//2+((self.w-1)*self.s_w-self.w+self.f_w)%2\n",
    "            else:\n",
    "                p_h_1 = self.padding[0]\n",
    "                p_h_2 = self.padding[1]\n",
    "                p_w_1 = self.padding[2]\n",
    "                p_w_2 = self.padding[3] \n",
    "        self.paddings = [[0,0],[p_h_1,p_h_2],[p_w_1,p_w_2],[0,0]]\n",
    "        self.q_w = (self.w+p_w_1+p_w_2-self.f_w)//self.s_w\n",
    "        self.q_h = (self.h+p_h_1+p_h_2-self.f_h)//self.s_h\n",
    "        self.built = True\n",
    "\n",
    "    def __call__(self, inputs):\n",
    "        if not self.built:\n",
    "            self.build(input_dims=inputs.shape[1:])\n",
    "        v = tf.pad(inputs, paddings=self.paddings)\n",
    "        outputs = []\n",
    "        for a in range(self.q_h+1):\n",
    "            outputs_ = []\n",
    "            for b in range(self.q_w+1):\n",
    "                z = tf.math.reduce_max(v[:,self.s_h*a:self.s_h*a+self.f_h,self.s_w*b:self.s_w*b+self.f_w,:], axis=[1,2])\n",
    "                outputs_.append(z)\n",
    "            outputs.append(outputs_)\n",
    "        return tf.transpose(tf.convert_to_tensor(outputs), perm=[2,0,1,3])\n",
    "          \n",
    "class Flatten():\n",
    "    \n",
    "    def __init__(self):\n",
    "        self.weights = []\n",
    "                \n",
    "    def __call__(self, inputs):\n",
    "        return tf.reshape(inputs, shape=(-1,inputs.shape[1]*inputs.shape[2]*inputs.shape[3]))\n",
    "        \n",
    "class Dense():\n",
    "    \n",
    "    def __init__(self, units):\n",
    "        self.units = units\n",
    "        self.weights = []\n",
    "        self.built = False\n",
    "        \n",
    "    def add_weight(self, shape):\n",
    "        var_init = tf.random.normal(shape=shape, mean=0.0, stddev=0.05, dtype=\"float32\")\n",
    "        return tf.Variable(initial_value=var_init, trainable=True)\n",
    "        \n",
    "    def build(self, input_dims):\n",
    "        self.w = self.add_weight(shape=(input_dims, self.units))\n",
    "        self.weights.append(self.w)\n",
    "        self.b = self.add_weight(shape=(1, self.units))\n",
    "        self.weights.append(self.b)\n",
    "        self.built = True\n",
    "\n",
    "    def __call__(self, inputs):\n",
    "        if not self.built:\n",
    "            self.build(input_dims=inputs.shape[1])\n",
    "        z = tf.matmul(inputs, self.w) + self.b\n",
    "        u = tf.math.exp(z)\n",
    "        return u/tf.math.reduce_sum(u, axis=1, keepdims=True)"
   ]
  },
  {
   "cell_type": "code",
   "execution_count": 6,
   "metadata": {},
   "outputs": [],
   "source": [
    "class CategoricalCrossentropy():\n",
    "            \n",
    "    def __call__(self, y_true, y_pred):\n",
    "        return -tf.math.reduce_mean(tf.math.reduce_sum(y_true*tf.math.log(y_pred), axis=1), axis=0)"
   ]
  },
  {
   "cell_type": "code",
   "execution_count": 7,
   "metadata": {},
   "outputs": [],
   "source": [
    "class CategoricalAccuracy():\n",
    "             \n",
    "    def __call__(self, y_true, y_pred):\n",
    "        y_pred_max = tf.cast(tf.math.argmax(y_pred, axis=1), dtype='float32')\n",
    "        y_true_max = tf.cast(tf.math.argmax(y_true, axis=1), dtype='float32')\n",
    "        return tf.math.reduce_mean(1-tf.square(tf.sign(y_true_max-y_pred_max)))"
   ]
  },
  {
   "cell_type": "code",
   "execution_count": 8,
   "metadata": {},
   "outputs": [],
   "source": [
    "class Adam():\n",
    "\n",
    "    def __init__(self, model, learning_rate, beta_1, beta_2, epsilon):\n",
    "        self.model = model\n",
    "        self.learning_rate = learning_rate\n",
    "        self.beta_1 = beta_1\n",
    "        self.beta_2 = beta_2\n",
    "        self.epsilon= epsilon\n",
    "        self.stop_training = False\n",
    "        self.weights = []\n",
    "        self.built = False\n",
    "        \n",
    "    def add_weight(self, shape):\n",
    "        w_init = tf.zeros(shape=shape, dtype=\"float32\")\n",
    "        return  tf.Variable(initial_value=w_init, trainable=False)\n",
    "    \n",
    "    def build(self):\n",
    "        for weight in self.model.weights:\n",
    "            m = self.add_weight(shape=weight.shape)\n",
    "            v = self.add_weight(shape=weight.shape)\n",
    "            self.weights.append([m,v])\n",
    "        self.built = True\n",
    "            \n",
    "    def apply_gradients(self, grads_and_vars):\n",
    "        if not self.built:\n",
    "            self.build()\n",
    "        list_grads_and_vars = list(grads_and_vars)\n",
    "        for i in range(len(list_grads_and_vars)):\n",
    "            grad, var = list_grads_and_vars[i]\n",
    "            m = self.weights[i][0]\n",
    "            v = self.weights[i][1]\n",
    "            self.weights[i][0].assign(self.beta_1*m + (1-self.beta_1)*grad)  \n",
    "            self.weights[i][1].assign(self.beta_2*v + (1-self.beta_2)*grad*grad)\n",
    "            m_ = (1/(1-self.beta_1))*self.weights[i][0]\n",
    "            v_ = (1/(1-self.beta_2))*self.weights[i][1]\n",
    "            var.assign(var - self.learning_rate*m_/(tf.math.sqrt(v_)+self.epsilon))"
   ]
  },
  {
   "cell_type": "code",
   "execution_count": 9,
   "metadata": {},
   "outputs": [],
   "source": [
    "class ProgbarPrint():\n",
    "\n",
    "    def __init__(self, model):\n",
    "        self.model = model\n",
    "    \n",
    "    def on_epoch_begin(self, epoch):\n",
    "        self.start_time = tf.timestamp()\n",
    "        \n",
    "    def on_epoch_end(self, epoch, logs):\n",
    "        now = tf.timestamp()\n",
    "        time = now - self.start_time\n",
    "        tf.print('Epochs {}/{} - Loss: {} - Metric: {}'.format(epoch+1, self.model.epochs, logs['loss'], logs['metric']))\n",
    "        tf.print('----- {}s -----'.format(tf.round(1000*time)/1000))\n",
    "        \n",
    "class History():\n",
    "\n",
    "    def __init__(self, model):\n",
    "        self.model = model\n",
    "        self.history = {'loss':[],'metric':[]}\n",
    "        \n",
    "    def on_epoch_end(self, epoch, logs):\n",
    "        self.history['loss'].append(logs['loss'].numpy())\n",
    "        self.history['metric'].append(logs['metric'].numpy())\n",
    "        \n",
    "    def on_train_end(self):\n",
    "        self.model.history = self.history\n",
    "\n",
    "class ReduceLROnPlateau():\n",
    "        \n",
    "    def __init__(self, model, patience, error, reduce_factor, min_learning_rate):\n",
    "        self.model = model\n",
    "        self.patience = patience\n",
    "        self.error = error\n",
    "        self.reduce_factor = reduce_factor\n",
    "        self.min_learning_rate = min_learning_rate\n",
    "                        \n",
    "    def on_epoch_end(self, epoch, logs):\n",
    "        if epoch==0:\n",
    "            self.loss = logs['loss']\n",
    "            self.non_decreasing_epochs = 0\n",
    "        else:\n",
    "            if ((self.loss-logs['loss'])>self.error):\n",
    "                self.loss = logs['loss']\n",
    "                self.non_decreasing_epochs = 0\n",
    "            else:\n",
    "                self.non_decreasing_epochs = self.non_decreasing_epochs+1\n",
    "        if (self.non_decreasing_epochs == self.patience):\n",
    "            if (self.model.optimizer.learning_rate>self.min_learning_rate):\n",
    "                self.model.optimizer.learning_rate = self.reduce_factor*self.model.optimizer.learning_rate\n",
    "                self.non_decreasing_epochs = 0\n",
    "        \n",
    "class EarlyStopping():\n",
    "        \n",
    "    def __init__(self, model, patience, error):\n",
    "        self.model = model\n",
    "        self.patience = patience\n",
    "        self.error = error\n",
    "        \n",
    "    def on_epoch_end(self, epoch, logs):\n",
    "        if epoch==0:\n",
    "            self.loss = logs['loss']\n",
    "            self.non_decreasing_epochs = 0\n",
    "        else:\n",
    "            if ((self.loss-logs['loss'])>self.error):\n",
    "                self.loss = logs['loss']\n",
    "                self.non_decreasing_epochs = 0\n",
    "            else:\n",
    "                self.non_decreasing_epochs = self.non_decreasing_epochs+1\n",
    "        if (self.non_decreasing_epochs == self.patience):\n",
    "            self.model.optimizer.stop_training = True"
   ]
  },
  {
   "cell_type": "code",
   "execution_count": 10,
   "metadata": {},
   "outputs": [],
   "source": [
    "class Model():\n",
    "    \n",
    "    def __init__(self):\n",
    "        self.h1 = Lambda()\n",
    "        self.h2 = Conv2D(filters=8, \n",
    "                         kernel_size=(4,4), \n",
    "                         strides=(1,1), \n",
    "                         padding='same')\n",
    "        self.h3 = MaxPool2D(pool_size=(8,8), \n",
    "                            strides=(8,8), \n",
    "                            padding='valid')\n",
    "        self.h4 = Conv2D(filters=16, \n",
    "                         kernel_size=(2,2), \n",
    "                         strides=(1,1), \n",
    "                         padding='same')\n",
    "        self.h5 = MaxPool2D(pool_size=(4,4), \n",
    "                            strides=(4,4), \n",
    "                            padding='valid')\n",
    "        self.h6 = Flatten()\n",
    "        self.h7 = Dense(units=Y_train.shape[1])\n",
    "        self.layers = [self.h1, self.h2, self.h3, self.h4, self.h5, self.h6, self.h7]\n",
    "        self.weights = []\n",
    "        self.built = False\n",
    "     \n",
    "    def build(self):\n",
    "        for layer in self.layers:\n",
    "            for weight in layer.weights:\n",
    "                self.weights.append(weight)\n",
    "        self.built = True\n",
    "        \n",
    "    def __call__(self, inputs): \n",
    "        a1 = self.h1(inputs)\n",
    "        a2 = self.h2(a1)\n",
    "        a3 = self.h3(a2)\n",
    "        a4 = self.h4(a3)\n",
    "        a5 = self.h5(a4)\n",
    "        a6 = self.h6(a5)\n",
    "        y = self.h7(a6)\n",
    "        if not self.built:\n",
    "            self.build()\n",
    "        return y \n",
    "                \n",
    "    def train_step(self, X, Y):\n",
    "        num_batches = X.shape[0]//self.batch_size\n",
    "        for batch in range(num_batches+1):\n",
    "            if batch<num_batches:\n",
    "                X_batch = X[batch*self.batch_size:(batch+1)*self.batch_size]\n",
    "                Y_batch = Y[batch*self.batch_size:(batch+1)*self.batch_size]\n",
    "            else:\n",
    "                X_batch = X[num_batches*self.batch_size:]\n",
    "                Y_batch = Y[num_batches*self.batch_size:]\n",
    "            with tf.GradientTape() as tape:\n",
    "                H = self(X_batch)\n",
    "                loss = self.loss(Y_batch, H)\n",
    "            grads = tape.gradient(loss, self.weights)\n",
    "            self.optimizer.apply_gradients(zip(grads, self.weights))\n",
    "        H = self(X)\n",
    "        loss = self.loss(Y, H)\n",
    "        metric = self.metric(Y, H)\n",
    "        logs = {'loss': loss,\n",
    "                'metric': metric}\n",
    "        return logs\n",
    "        \n",
    "    def fit(self, X, Y, epochs=100, learning_rate=0.005, batch_size=64):\n",
    "        self.epochs = epochs\n",
    "        self.learning_rate = learning_rate\n",
    "        self.batch_size = batch_size \n",
    "        self.loss = CategoricalCrossentropy()\n",
    "        self.metric = CategoricalAccuracy()\n",
    "        self.optimizer = Adam(model=self, learning_rate=self.learning_rate, beta_1=0.9, beta_2=0.999, epsilon=1e-07) \n",
    "        self.callbacks = [ProgbarPrint(model=self),\n",
    "                          History(model=self),\n",
    "                          ReduceLROnPlateau(model=self, patience=20, error=0.0001, reduce_factor=0.1, min_learning_rate=0.001),\n",
    "                          EarlyStopping(model=self, patience=50, error=0.0001)]\n",
    "        tf.print('Train on {} samples'.format(X.shape[0]))\n",
    "        for epoch in range(epochs):\n",
    "            self.callbacks[0].on_epoch_begin(epoch)\n",
    "            logs = self.train_step(tf.constant(X, dtype=\"float32\"), tf.constant(Y, dtype=\"float32\"))\n",
    "            for callback in self.callbacks:\n",
    "                callback.on_epoch_end(epoch, logs)\n",
    "            if self.optimizer.stop_training:\n",
    "                break\n",
    "        self.callbacks[1].on_train_end()\n",
    "            \n",
    "    def predict(self, inputs):\n",
    "        return self(tf.constant(inputs, dtype=\"float32\")).numpy()\n",
    "        \n",
    "    def evaluate(self, X, Y):\n",
    "        loss = self.loss(tf.constant(Y, dtype=\"float32\"), self(tf.constant(X, dtype=\"float32\")))\n",
    "        metric = self.metric(tf.constant(Y, dtype=\"float32\"), self(tf.constant(X, dtype=\"float32\")))\n",
    "        loss_numpy = loss.numpy()\n",
    "        metric_numpy = metric.numpy()\n",
    "        tf.print('Loss: {} - Metric: {}'.format(loss_numpy, metric_numpy))\n",
    "        return [loss_numpy, metric_numpy]"
   ]
  },
  {
   "cell_type": "code",
   "execution_count": 11,
   "metadata": {
    "scrolled": true
   },
   "outputs": [
    {
     "name": "stdout",
     "output_type": "stream",
     "text": [
      "Train on 1080 samples\n",
      "Epochs 1/100 - Loss: 1.791860580444336 - Metric: 0.1666666716337204\n",
      "----- 71.651s -----\n",
      "Epochs 2/100 - Loss: 1.791355013847351 - Metric: 0.20092593133449554\n",
      "----- 75.179s -----\n",
      "Epochs 3/100 - Loss: 1.7907549142837524 - Metric: 0.18425926566123962\n",
      "----- 65.502s -----\n",
      "Epochs 4/100 - Loss: 1.789555311203003 - Metric: 0.16851851344108582\n",
      "----- 60.172s -----\n",
      "Epochs 5/100 - Loss: 1.786730408668518 - Metric: 0.18981482088565826\n",
      "----- 58.131s -----\n",
      "Epochs 6/100 - Loss: 1.7810893058776855 - Metric: 0.21481481194496155\n",
      "----- 58.183s -----\n",
      "Epochs 7/100 - Loss: 1.7700203657150269 - Metric: 0.25833332538604736\n",
      "----- 58.135s -----\n",
      "Epochs 8/100 - Loss: 1.7436513900756836 - Metric: 0.3027777671813965\n",
      "----- 58.247s -----\n",
      "Epochs 9/100 - Loss: 1.7022603750228882 - Metric: 0.26944443583488464\n",
      "----- 58.709s -----\n",
      "Epochs 10/100 - Loss: 1.6529202461242676 - Metric: 0.35648149251937866\n",
      "----- 58.144s -----\n",
      "Epochs 11/100 - Loss: 1.594010829925537 - Metric: 0.3861111104488373\n",
      "----- 58.071s -----\n",
      "Epochs 12/100 - Loss: 1.5396620035171509 - Metric: 0.40833333134651184\n",
      "----- 57.956s -----\n",
      "Epochs 13/100 - Loss: 1.4937504529953003 - Metric: 0.40925925970077515\n",
      "----- 57.916s -----\n",
      "Epochs 14/100 - Loss: 1.4589186906814575 - Metric: 0.42407408356666565\n",
      "----- 57.849s -----\n",
      "Epochs 15/100 - Loss: 1.4350649118423462 - Metric: 0.42592594027519226\n",
      "----- 57.961s -----\n",
      "Epochs 16/100 - Loss: 1.4158666133880615 - Metric: 0.42592594027519226\n",
      "----- 57.914s -----\n",
      "Epochs 17/100 - Loss: 1.3990179300308228 - Metric: 0.4268518388271332\n",
      "----- 58.304s -----\n",
      "Epochs 18/100 - Loss: 1.3891096115112305 - Metric: 0.432407408952713\n",
      "----- 57.909s -----\n",
      "Epochs 19/100 - Loss: 1.3787075281143188 - Metric: 0.4314814805984497\n",
      "----- 58.045s -----\n",
      "Epochs 20/100 - Loss: 1.3727951049804688 - Metric: 0.4296296238899231\n",
      "----- 58.993s -----\n",
      "Epochs 21/100 - Loss: 1.366212010383606 - Metric: 0.4305555522441864\n",
      "----- 57.758s -----\n",
      "Epochs 22/100 - Loss: 1.3585013151168823 - Metric: 0.4416666626930237\n",
      "----- 57.68s -----\n",
      "Epochs 23/100 - Loss: 1.3508429527282715 - Metric: 0.4416666626930237\n",
      "----- 57.695s -----\n",
      "Epochs 24/100 - Loss: 1.3454138040542603 - Metric: 0.4462963044643402\n",
      "----- 57.832s -----\n",
      "Epochs 25/100 - Loss: 1.3405431509017944 - Metric: 0.4462963044643402\n",
      "----- 57.782s -----\n",
      "Epochs 26/100 - Loss: 1.3341647386550903 - Metric: 0.4583333432674408\n",
      "----- 57.911s -----\n",
      "Epochs 27/100 - Loss: 1.3276442289352417 - Metric: 0.4574074149131775\n",
      "----- 57.906s -----\n",
      "Epochs 28/100 - Loss: 1.3204838037490845 - Metric: 0.46759259700775146\n",
      "----- 57.685s -----\n",
      "Epochs 29/100 - Loss: 1.3163306713104248 - Metric: 0.46296295523643494\n",
      "----- 58.018s -----\n",
      "Epochs 30/100 - Loss: 1.3120187520980835 - Metric: 0.46388888359069824\n",
      "----- 57.77s -----\n",
      "Epochs 31/100 - Loss: 1.3076286315917969 - Metric: 0.46851852536201477\n",
      "----- 58.051s -----\n",
      "Epochs 32/100 - Loss: 1.3028970956802368 - Metric: 0.46851852536201477\n",
      "----- 58.0s -----\n",
      "Epochs 33/100 - Loss: 1.2991360425949097 - Metric: 0.4694444537162781\n",
      "----- 58.156s -----\n",
      "Epochs 34/100 - Loss: 1.295786738395691 - Metric: 0.4731481373310089\n",
      "----- 58.014s -----\n",
      "Epochs 35/100 - Loss: 1.2917132377624512 - Metric: 0.4712963104248047\n",
      "----- 58.16s -----\n",
      "Epochs 36/100 - Loss: 1.2888116836547852 - Metric: 0.4749999940395355\n",
      "----- 57.965s -----\n",
      "Epochs 37/100 - Loss: 1.2856316566467285 - Metric: 0.47962963581085205\n",
      "----- 57.999s -----\n",
      "Epochs 38/100 - Loss: 1.283364176750183 - Metric: 0.4842592477798462\n",
      "----- 58.12s -----\n",
      "Epochs 39/100 - Loss: 1.2804747819900513 - Metric: 0.48055556416511536\n",
      "----- 57.982s -----\n",
      "Epochs 40/100 - Loss: 1.279443383216858 - Metric: 0.4833333194255829\n",
      "----- 57.834s -----\n",
      "Epochs 41/100 - Loss: 1.2767447233200073 - Metric: 0.47870370745658875\n",
      "----- 58.089s -----\n",
      "Epochs 42/100 - Loss: 1.273737907409668 - Metric: 0.4879629611968994\n",
      "----- 57.792s -----\n",
      "Epochs 43/100 - Loss: 1.271296739578247 - Metric: 0.4879629611968994\n",
      "----- 57.587s -----\n",
      "Epochs 44/100 - Loss: 1.2693371772766113 - Metric: 0.4861111044883728\n",
      "----- 58.487s -----\n",
      "Epochs 45/100 - Loss: 1.266860842704773 - Metric: 0.4879629611968994\n",
      "----- 57.599s -----\n",
      "Epochs 46/100 - Loss: 1.2654554843902588 - Metric: 0.4888888895511627\n",
      "----- 57.359s -----\n",
      "Epochs 47/100 - Loss: 1.2635780572891235 - Metric: 0.489814817905426\n",
      "----- 57.835s -----\n",
      "Epochs 48/100 - Loss: 1.2617242336273193 - Metric: 0.49351853132247925\n",
      "----- 57.578s -----\n",
      "Epochs 49/100 - Loss: 1.259390115737915 - Metric: 0.49351853132247925\n",
      "----- 57.732s -----\n",
      "Epochs 50/100 - Loss: 1.2577447891235352 - Metric: 0.48240742087364197\n",
      "----- 57.87s -----\n",
      "Epochs 51/100 - Loss: 1.2561726570129395 - Metric: 0.49259260296821594\n",
      "----- 57.927s -----\n",
      "Epochs 52/100 - Loss: 1.2544573545455933 - Metric: 0.49351853132247925\n",
      "----- 57.572s -----\n",
      "Epochs 53/100 - Loss: 1.2532556056976318 - Metric: 0.5009258985519409\n",
      "----- 57.937s -----\n",
      "Epochs 54/100 - Loss: 1.2520594596862793 - Metric: 0.49259260296821594\n",
      "----- 58.281s -----\n",
      "Epochs 55/100 - Loss: 1.2493853569030762 - Metric: 0.489814817905426\n",
      "----- 58.012s -----\n",
      "Epochs 56/100 - Loss: 1.2484947443008423 - Metric: 0.49537035822868347\n",
      "----- 57.86s -----\n",
      "Epochs 57/100 - Loss: 1.2473628520965576 - Metric: 0.49537035822868347\n",
      "----- 58.24s -----\n",
      "Epochs 58/100 - Loss: 1.2455861568450928 - Metric: 0.4962962865829468\n",
      "----- 58.908s -----\n",
      "Epochs 59/100 - Loss: 1.2441507577896118 - Metric: 0.4972222149372101\n",
      "----- 57.744s -----\n",
      "Epochs 60/100 - Loss: 1.2427886724472046 - Metric: 0.4962962865829468\n",
      "----- 57.353s -----\n",
      "Epochs 61/100 - Loss: 1.2412320375442505 - Metric: 0.4972222149372101\n",
      "----- 57.529s -----\n",
      "Epochs 62/100 - Loss: 1.240150809288025 - Metric: 0.49444442987442017\n",
      "----- 58.23s -----\n",
      "Epochs 63/100 - Loss: 1.2385402917861938 - Metric: 0.4981481432914734\n",
      "----- 57.516s -----\n",
      "Epochs 64/100 - Loss: 1.2374372482299805 - Metric: 0.4972222149372101\n",
      "----- 57.615s -----\n",
      "Epochs 65/100 - Loss: 1.2362364530563354 - Metric: 0.5\n",
      "----- 57.611s -----\n",
      "Epochs 66/100 - Loss: 1.234867811203003 - Metric: 0.4981481432914734\n",
      "----- 57.667s -----\n",
      "Epochs 67/100 - Loss: 1.2332037687301636 - Metric: 0.4990740716457367\n",
      "----- 57.588s -----\n",
      "Epochs 68/100 - Loss: 1.2321146726608276 - Metric: 0.4972222149372101\n",
      "----- 57.813s -----\n",
      "Epochs 69/100 - Loss: 1.2314115762710571 - Metric: 0.5\n",
      "----- 57.778s -----\n",
      "Epochs 70/100 - Loss: 1.2297699451446533 - Metric: 0.4972222149372101\n",
      "----- 57.333s -----\n",
      "Epochs 71/100 - Loss: 1.2287408113479614 - Metric: 0.4962962865829468\n",
      "----- 57.533s -----\n",
      "Epochs 72/100 - Loss: 1.2273584604263306 - Metric: 0.5027777552604675\n",
      "----- 57.227s -----\n",
      "Epochs 73/100 - Loss: 1.2263087034225464 - Metric: 0.4981481432914734\n",
      "----- 58.45s -----\n",
      "Epochs 74/100 - Loss: 1.2249985933303833 - Metric: 0.5009258985519409\n",
      "----- 57.856s -----\n",
      "Epochs 75/100 - Loss: 1.2242698669433594 - Metric: 0.5055555701255798\n",
      "----- 57.632s -----\n",
      "Epochs 76/100 - Loss: 1.2233470678329468 - Metric: 0.5018518567085266\n",
      "----- 57.498s -----\n",
      "Epochs 77/100 - Loss: 1.2217308282852173 - Metric: 0.5009258985519409\n",
      "----- 57.521s -----\n",
      "Epochs 78/100 - Loss: 1.2206217050552368 - Metric: 0.5\n",
      "----- 57.563s -----\n",
      "Epochs 79/100 - Loss: 1.2191636562347412 - Metric: 0.5092592835426331\n",
      "----- 57.883s -----\n",
      "Epochs 80/100 - Loss: 1.2187238931655884 - Metric: 0.5074074268341064\n",
      "----- 57.797s -----\n",
      "Epochs 81/100 - Loss: 1.217421293258667 - Metric: 0.5037037134170532\n",
      "----- 57.617s -----\n",
      "Epochs 82/100 - Loss: 1.2161962985992432 - Metric: 0.5074074268341064\n",
      "----- 57.782s -----\n",
      "Epochs 83/100 - Loss: 1.216429591178894 - Metric: 0.5046296119689941\n",
      "----- 57.766s -----\n",
      "Epochs 84/100 - Loss: 1.2162967920303345 - Metric: 0.5027777552604675\n",
      "----- 57.605s -----\n",
      "Epochs 85/100 - Loss: 1.2147973775863647 - Metric: 0.5046296119689941\n",
      "----- 57.342s -----\n",
      "Epochs 86/100 - Loss: 1.2125788927078247 - Metric: 0.5037037134170532\n",
      "----- 57.685s -----\n",
      "Epochs 87/100 - Loss: 1.2112116813659668 - Metric: 0.5064814686775208\n",
      "----- 57.6s -----\n",
      "Epochs 88/100 - Loss: 1.2114818096160889 - Metric: 0.5055555701255798\n",
      "----- 57.534s -----\n",
      "Epochs 89/100 - Loss: 1.2102484703063965 - Metric: 0.5064814686775208\n",
      "----- 57.706s -----\n",
      "Epochs 90/100 - Loss: 1.2090842723846436 - Metric: 0.5\n",
      "----- 57.497s -----\n",
      "Epochs 91/100 - Loss: 1.208095908164978 - Metric: 0.510185182094574\n",
      "----- 57.451s -----\n",
      "Epochs 92/100 - Loss: 1.207358479499817 - Metric: 0.5111111402511597\n"
     ]
    },
    {
     "name": "stdout",
     "output_type": "stream",
     "text": [
      "----- 57.748s -----\n",
      "Epochs 93/100 - Loss: 1.2076423168182373 - Metric: 0.5111111402511597\n",
      "----- 58.17s -----\n",
      "Epochs 94/100 - Loss: 1.2062697410583496 - Metric: 0.5120370388031006\n",
      "----- 57.842s -----\n",
      "Epochs 95/100 - Loss: 1.2049250602722168 - Metric: 0.5064814686775208\n",
      "----- 57.596s -----\n",
      "Epochs 96/100 - Loss: 1.2032036781311035 - Metric: 0.5092592835426331\n",
      "----- 57.423s -----\n",
      "Epochs 97/100 - Loss: 1.2020434141159058 - Metric: 0.5055555701255798\n",
      "----- 57.361s -----\n",
      "Epochs 98/100 - Loss: 1.2023530006408691 - Metric: 0.5111111402511597\n",
      "----- 57.556s -----\n",
      "Epochs 99/100 - Loss: 1.2009570598602295 - Metric: 0.5138888955116272\n",
      "----- 57.278s -----\n",
      "Epochs 100/100 - Loss: 1.2001996040344238 - Metric: 0.5129629373550415\n",
      "----- 57.68s -----\n"
     ]
    }
   ],
   "source": [
    "model = Model()\n",
    "\n",
    "model.fit(X_train, Y_train)"
   ]
  },
  {
   "cell_type": "code",
   "execution_count": 12,
   "metadata": {},
   "outputs": [
    {
     "name": "stdout",
     "output_type": "stream",
     "text": [
      "Loss: 1.2001996040344238 - Metric: 0.5129629373550415\n"
     ]
    },
    {
     "data": {
      "text/plain": [
       "[1.2001996, 0.51296294]"
      ]
     },
     "execution_count": 12,
     "metadata": {},
     "output_type": "execute_result"
    }
   ],
   "source": [
    "model.evaluate(X_train, Y_train)"
   ]
  },
  {
   "cell_type": "code",
   "execution_count": 13,
   "metadata": {},
   "outputs": [
    {
     "name": "stdout",
     "output_type": "stream",
     "text": [
      "Loss: 1.293210744857788 - Metric: 0.44999998807907104\n"
     ]
    },
    {
     "data": {
      "text/plain": [
       "[1.2932107, 0.45]"
      ]
     },
     "execution_count": 13,
     "metadata": {},
     "output_type": "execute_result"
    }
   ],
   "source": [
    "model.evaluate(X_test, Y_test)"
   ]
  },
  {
   "cell_type": "code",
   "execution_count": 14,
   "metadata": {},
   "outputs": [
    {
     "data": {
      "text/plain": [
       "[<matplotlib.lines.Line2D at 0x7fa7e03cd2e8>]"
      ]
     },
     "execution_count": 14,
     "metadata": {},
     "output_type": "execute_result"
    },
    {
     "data": {
      "image/png": "[encoded data removed]",
      "text/plain": [
       "<Figure size 720x720 with 2 Axes>"
      ]
     },
     "metadata": {
      "needs_background": "light"
     },
     "output_type": "display_data"
    }
   ],
   "source": [
    "loss = model.history['loss']\n",
    "metric = model.history['metric']\n",
    "\n",
    "fig = plt.figure(figsize=(10, 10))\n",
    "ax1 = fig.add_subplot(2, 1, 1)\n",
    "ax1.set_title('Loss')\n",
    "ax1.set_xlabel('iterations')\n",
    "ax1.set_ylabel('loss')\n",
    "ax1.plot(loss, marker='.', color='#0F00FF', markersize=1, linestyle='-')\n",
    "ax2 = fig.add_subplot(2, 1, 2)\n",
    "ax2.set_title('Accuracy')\n",
    "ax2.set_xlabel('iterations')\n",
    "ax2.set_ylabel('accuracy')\n",
    "ax2.plot(metric, marker='.', color='#0F00FF', markersize=1, linestyle='-')"
   ]
  },
  {
   "cell_type": "code",
   "execution_count": 15,
   "metadata": {},
   "outputs": [
    {
     "name": "stdout",
     "output_type": "stream",
     "text": [
      "It's a 2\n"
     ]
    },
    {
     "data": {
      "image/png": "[encoded data removed]",
      "text/plain": [
       "<Figure size 432x288 with 1 Axes>"
      ]
     },
     "metadata": {
      "needs_background": "light"
     },
     "output_type": "display_data"
    }
   ],
   "source": [
    "index = 6\n",
    "plt.imshow(X_train[index,:,:,:])\n",
    "print(\"It's a {}\".format(np.argmax(model.predict(X_train[[index],:,:,:]))))"
   ]
  },
  {
   "cell_type": "code",
   "execution_count": 16,
   "metadata": {},
   "outputs": [
    {
     "name": "stdout",
     "output_type": "stream",
     "text": [
      "It's a 3\n"
     ]
    },
    {
     "data": {
      "image/png": "[encoded data removed]",
      "text/plain": [
       "<Figure size 432x288 with 1 Axes>"
      ]
     },
     "metadata": {
      "needs_background": "light"
     },
     "output_type": "display_data"
    }
   ],
   "source": [
    "img = np.array(plt.imread(\"thumbs_up.jpg\"))\n",
    "img_ = np.array(Image.fromarray(img).resize((64,64)))\n",
    "plt.imshow(img_)\n",
    "img__ = np.expand_dims(img_, axis=0)\n",
    "print(\"It's a {}\".format(np.argmax(model.predict(img__))))"
   ]
  },
  {
   "cell_type": "code",
   "execution_count": 17,
   "metadata": {},
   "outputs": [
    {
     "name": "stdout",
     "output_type": "stream",
     "text": [
      "It's a 1\n"
     ]
    },
    {
     "data": {
      "image/png": "[encoded data removed]",
      "text/plain": [
       "<Figure size 432x288 with 1 Axes>"
      ]
     },
     "metadata": {
      "needs_background": "light"
     },
     "output_type": "display_data"
    }
   ],
   "source": [
    "img = np.array(plt.imread(\"two_fingers.jpg\"))\n",
    "img_ = np.array(Image.fromarray(img).resize((64,64)))\n",
    "plt.imshow(img_)\n",
    "img__ = np.expand_dims(img_, axis=0)\n",
    "print(\"It's a {}\".format(np.argmax(model.predict(img__))))"
   ]
  },
  {
   "cell_type": "code",
   "execution_count": 18,
   "metadata": {},
   "outputs": [
    {
     "name": "stdout",
     "output_type": "stream",
     "text": [
      "It's a 0\n"
     ]
    },
    {
     "data": {
      "image/png": "[encoded data removed]",
      "text/plain": [
       "<Figure size 432x288 with 1 Axes>"
      ]
     },
     "metadata": {
      "needs_background": "light"
     },
     "output_type": "display_data"
    }
   ],
   "source": [
    "img = np.array(plt.imread(\"three_fingers.jpg\"))\n",
    "img_ = np.array(Image.fromarray(img).resize((64,64)))\n",
    "plt.imshow(img_)\n",
    "img__ = np.expand_dims(img_, axis=0)\n",
    "print(\"It's a {}\".format(np.argmax(model.predict(img__))))"
   ]
  }
 ],
 "metadata": {
  "kernelspec": {
   "display_name": "Python 3",
   "language": "python",
   "name": "python3"
  },
  "language_info": {
   "codemirror_mode": {
    "name": "ipython",
    "version": 3
   },
   "file_extension": ".py",
   "mimetype": "text/x-python",
   "name": "python",
   "nbconvert_exporter": "python",
   "pygments_lexer": "ipython3",
   "version": "3.6.9"
  }
 },
 "nbformat": 4,
 "nbformat_minor": 2
}
